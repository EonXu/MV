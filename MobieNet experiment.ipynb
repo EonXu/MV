{
 "cells": [
  {
   "cell_type": "code",
   "execution_count": 1,
   "metadata": {},
   "outputs": [
    {
     "name": "stderr",
     "output_type": "stream",
     "text": [
      "2023-12-13 16:43:17.738478: I tensorflow/core/platform/cpu_feature_guard.cc:182] This TensorFlow binary is optimized to use available CPU instructions in performance-critical operations.\n",
      "To enable the following instructions: AVX2 AVX512F FMA, in other operations, rebuild TensorFlow with the appropriate compiler flags.\n",
      "2023-12-13 16:43:18.455646: W tensorflow/compiler/tf2tensorrt/utils/py_utils.cc:38] TF-TRT Warning: Could not find TensorRT\n"
     ]
    }
   ],
   "source": [
    "from keras.preprocessing.image import ImageDataGenerator\n",
    "import matplotlib.pyplot as plt\n",
    "from keras.models import Model\n",
    "from keras.layers import Input, Conv2D, concatenate, GlobalAveragePooling2D, Dense, MaxPooling2D, Dropout, Flatten, ReLU, Add, BatchNormalization, AveragePooling2D, Multiply, GlobalAveragePooling2D, Reshape,DepthwiseConv2D\n",
    "from keras.optimizers import RMSprop\n",
    "import keras.backend as K\n",
    "import cv2\n",
    "import glob\n",
    "import numpy as np\n",
    "import tensorflow as tf\n",
    "from tensorflow.keras.preprocessing.image import ImageDataGenerator,load_img\n",
    "from PIL import Image\n",
    "from tensorflow.keras.metrics import Metric,Precision, Recall\n",
    "from tensorflow.keras.applications import VGG16, ResNet50, InceptionV3, MobileNet\n",
    "import pandas as pd"
   ]
  },
  {
   "cell_type": "code",
   "execution_count": 2,
   "metadata": {},
   "outputs": [],
   "source": [
    "train_dir = r'/home/featurize/data/Training'\n",
    "test_dir = r'/home/featurize/data/Test'\n",
    "#The total number of images: 90483.\n",
    "#Training set size: 67692 images (one fruit or vegetable per image).\n",
    "#Test set size: 22688 images (one fruit or vegetable per image).\n",
    "#The number of classes: 131 (fruits and vegetables).\n",
    "#Image size: 100x100 pixels."
   ]
  },
  {
   "cell_type": "code",
   "execution_count": 3,
   "metadata": {},
   "outputs": [
    {
     "name": "stdout",
     "output_type": "stream",
     "text": [
      "NumberOfClass:  131\n"
     ]
    }
   ],
   "source": [
    "#find out the total calsses of dataset.\n",
    "className = glob.glob(train_dir + \"/*\")\n",
    "numberOfClass = len(className)\n",
    "print(\"NumberOfClass: \",numberOfClass)"
   ]
  },
  {
   "cell_type": "code",
   "execution_count": 4,
   "metadata": {},
   "outputs": [],
   "source": [
    "def denoise_background(image):\n",
    "    gray = cv2.cvtColor(image, cv2.COLOR_RGB2GRAY)\n",
    "    _, thresh = cv2.threshold(gray, 240, 255, cv2.THRESH_BINARY)\n",
    "    thresh_rgb = cv2.cvtColor(thresh, cv2.COLOR_GRAY2RGB)\n",
    "    np.copyto(image, thresh_rgb, where=thresh_rgb == 255)\n",
    "    return image"
   ]
  },
  {
   "cell_type": "code",
   "execution_count": 5,
   "metadata": {},
   "outputs": [
    {
     "name": "stdout",
     "output_type": "stream",
     "text": [
      "Found 63145 images belonging to 131 classes.\n",
      "Found 4547 images belonging to 131 classes.\n",
      "Found 22688 images belonging to 131 classes.\n"
     ]
    }
   ],
   "source": [
    "# Load and preprocess the training data\n",
    "train_datagen = ImageDataGenerator(\n",
    "    preprocessing_function=denoise_background,\n",
    "    rescale=1.0/255,\n",
    "    rotation_range=30,\n",
    "    width_shift_range=0.2,\n",
    "    height_shift_range=0.2,\n",
    "    shear_range=0.15,\n",
    "    zoom_range=0.15,\n",
    "    horizontal_flip=True,\n",
    "    validation_split=0.068,\n",
    "    fill_mode='nearest'\n",
    ")\n",
    "\n",
    "train_generator = train_datagen.flow_from_directory(\n",
    "    train_dir,\n",
    "    target_size=(100, 100),\n",
    "    batch_size=32,\n",
    "    class_mode='categorical',\n",
    "    color_mode='rgb', \n",
    "    subset='training' \n",
    ")\n",
    "\n",
    "validation_generator = train_datagen.flow_from_directory(\n",
    "    train_dir,\n",
    "    target_size=(100,100),\n",
    "    batch_size=32,\n",
    "    class_mode='categorical',\n",
    "    color_mode='rgb', \n",
    "    subset='validation'\n",
    ")\n",
    "\n",
    "# Load and preprocess the test data\n",
    "test_datagen = ImageDataGenerator(rescale=1.0/255)\n",
    "test_generator = test_datagen.flow_from_directory(\n",
    "    test_dir,\n",
    "    target_size=(100,100),\n",
    "    batch_size=32,\n",
    "    class_mode='categorical',\n",
    "    color_mode='rgb'\n",
    ")"
   ]
  },
  {
   "cell_type": "code",
   "execution_count": 6,
   "metadata": {},
   "outputs": [],
   "source": [
    "input_shape = Input(shape=(100,100,3))"
   ]
  },
  {
   "cell_type": "code",
   "execution_count": 7,
   "metadata": {},
   "outputs": [],
   "source": [
    "class CustomAccuracy(Metric):\n",
    "    def __init__(self, name='accuracy', **kwargs):\n",
    "        super(CustomAccuracy, self).__init__(name=name, **kwargs)\n",
    "        self.correct = self.add_weight(name='correct', initializer='zeros')\n",
    "        self.total = self.add_weight(name='total', initializer='zeros')\n",
    "\n",
    "    def update_state(self, y_true, y_pred, sample_weight=None):\n",
    "        y_pred_classes = tf.argmax(y_pred, axis=1)\n",
    "        y_true_classes = tf.argmax(y_true, axis=1)\n",
    "        correct_predictions = tf.equal(y_pred_classes, y_true_classes)\n",
    "        correct_predictions = tf.cast(correct_predictions, 'float32')\n",
    "        \n",
    "        self.correct.assign_add(tf.reduce_sum(correct_predictions))\n",
    "        self.total.assign_add(tf.cast(tf.size(y_true_classes), 'float32'))\n",
    "\n",
    "    def result(self):\n",
    "        return tf.divide(self.correct, self.total)\n",
    "\n",
    "    def reset_state(self):\n",
    "        self.correct.assign(0)\n",
    "        self.total.assign(0)\n"
   ]
  },
  {
   "cell_type": "code",
   "execution_count": 8,
   "metadata": {},
   "outputs": [],
   "source": [
    "class CustomCrossEntropyLoss(tf.keras.losses.Loss):\n",
    "    def __init__(self, name='loss', **kwargs):\n",
    "        super(CustomCrossEntropyLoss, self).__init__(name=name, **kwargs)\n",
    "\n",
    "    def call(self, y_true, y_pred):\n",
    "        epsilon = 1e-10\n",
    "        y_pred = tf.clip_by_value(y_pred, epsilon, 1 - epsilon)\n",
    "\n",
    "        loss = -tf.reduce_sum(y_true * tf.math.log(y_pred), axis=-1)\n",
    "\n",
    "        return loss"
   ]
  },
  {
   "cell_type": "markdown",
   "metadata": {},
   "source": [
    "Add the output layer for the other models"
   ]
  },
  {
   "cell_type": "code",
   "execution_count": 9,
   "metadata": {},
   "outputs": [],
   "source": [
    "def add_new_last_layer(base_model):\n",
    "    x = Dense(128, activation='relu')(base_model.output) \n",
    "    x = BatchNormalization()(x) \n",
    "    x = Dropout(0.3)(x)\n",
    "    x = Dense(64, activation='relu')(x)\n",
    "    x = BatchNormalization()(x) \n",
    "    x = Dropout(0.3)(x)\n",
    "    last_output= Dense(numberOfClass, activation='softmax')(x)\n",
    "    model = Model(inputs=base_model.input, outputs=last_output)\n",
    "    return model \n",
    "\n",
    "def prepare_model(model):\n",
    "    model = add_new_last_layer(model)\n",
    "    model.compile(optimizer=RMSprop(learning_rate=0.001), loss=CustomCrossEntropyLoss(),metrics=[CustomAccuracy(), Precision(name='precision'),Recall(name='recall')])\n",
    "    return model"
   ]
  },
  {
   "cell_type": "code",
   "execution_count": 10,
   "metadata": {},
   "outputs": [
    {
     "name": "stderr",
     "output_type": "stream",
     "text": [
      "2023-12-13 16:43:37.086413: I tensorflow/compiler/xla/stream_executor/cuda/cuda_gpu_executor.cc:995] successful NUMA node read from SysFS had negative value (-1), but there must be at least one NUMA node, so returning NUMA node zero. See more at https://github.com/torvalds/linux/blob/v6.0/Documentation/ABI/testing/sysfs-bus-pci#L344-L355\n",
      "2023-12-13 16:43:37.122510: I tensorflow/compiler/xla/stream_executor/cuda/cuda_gpu_executor.cc:995] successful NUMA node read from SysFS had negative value (-1), but there must be at least one NUMA node, so returning NUMA node zero. See more at https://github.com/torvalds/linux/blob/v6.0/Documentation/ABI/testing/sysfs-bus-pci#L344-L355\n",
      "2023-12-13 16:43:37.122755: I tensorflow/compiler/xla/stream_executor/cuda/cuda_gpu_executor.cc:995] successful NUMA node read from SysFS had negative value (-1), but there must be at least one NUMA node, so returning NUMA node zero. See more at https://github.com/torvalds/linux/blob/v6.0/Documentation/ABI/testing/sysfs-bus-pci#L344-L355\n",
      "2023-12-13 16:43:37.124271: I tensorflow/compiler/xla/stream_executor/cuda/cuda_gpu_executor.cc:995] successful NUMA node read from SysFS had negative value (-1), but there must be at least one NUMA node, so returning NUMA node zero. See more at https://github.com/torvalds/linux/blob/v6.0/Documentation/ABI/testing/sysfs-bus-pci#L344-L355\n",
      "2023-12-13 16:43:37.124492: I tensorflow/compiler/xla/stream_executor/cuda/cuda_gpu_executor.cc:995] successful NUMA node read from SysFS had negative value (-1), but there must be at least one NUMA node, so returning NUMA node zero. See more at https://github.com/torvalds/linux/blob/v6.0/Documentation/ABI/testing/sysfs-bus-pci#L344-L355\n",
      "2023-12-13 16:43:37.124653: I tensorflow/compiler/xla/stream_executor/cuda/cuda_gpu_executor.cc:995] successful NUMA node read from SysFS had negative value (-1), but there must be at least one NUMA node, so returning NUMA node zero. See more at https://github.com/torvalds/linux/blob/v6.0/Documentation/ABI/testing/sysfs-bus-pci#L344-L355\n",
      "2023-12-13 16:43:38.225217: I tensorflow/compiler/xla/stream_executor/cuda/cuda_gpu_executor.cc:995] successful NUMA node read from SysFS had negative value (-1), but there must be at least one NUMA node, so returning NUMA node zero. See more at https://github.com/torvalds/linux/blob/v6.0/Documentation/ABI/testing/sysfs-bus-pci#L344-L355\n",
      "2023-12-13 16:43:38.225495: I tensorflow/compiler/xla/stream_executor/cuda/cuda_gpu_executor.cc:995] successful NUMA node read from SysFS had negative value (-1), but there must be at least one NUMA node, so returning NUMA node zero. See more at https://github.com/torvalds/linux/blob/v6.0/Documentation/ABI/testing/sysfs-bus-pci#L344-L355\n",
      "2023-12-13 16:43:38.225672: I tensorflow/compiler/xla/stream_executor/cuda/cuda_gpu_executor.cc:995] successful NUMA node read from SysFS had negative value (-1), but there must be at least one NUMA node, so returning NUMA node zero. See more at https://github.com/torvalds/linux/blob/v6.0/Documentation/ABI/testing/sysfs-bus-pci#L344-L355\n",
      "2023-12-13 16:43:38.225795: W tensorflow/core/common_runtime/gpu/gpu_bfc_allocator.cc:47] Overriding orig_value setting because the TF_FORCE_GPU_ALLOW_GROWTH environment variable is set. Original config value was 0.\n",
      "2023-12-13 16:43:38.225892: I tensorflow/core/common_runtime/gpu/gpu_device.cc:1639] Created device /job:localhost/replica:0/task:0/device:GPU:0 with 8070 MB memory:  -> device: 0, name: NVIDIA GeForce RTX 3080, pci bus id: 0000:10:00.0, compute capability: 8.6\n"
     ]
    }
   ],
   "source": [
    "mobilenet_model = prepare_model(MobileNet(weights=None, include_top=False, input_shape=(100,100,3)))"
   ]
  },
  {
   "cell_type": "markdown",
   "metadata": {},
   "source": [
    "Train the mobienet model"
   ]
  },
  {
   "cell_type": "code",
   "execution_count": 11,
   "metadata": {},
   "outputs": [
    {
     "name": "stdout",
     "output_type": "stream",
     "text": [
      "Epoch 1/40\n"
     ]
    },
    {
     "name": "stderr",
     "output_type": "stream",
     "text": [
      "2023-12-13 16:43:43.913156: I tensorflow/compiler/xla/stream_executor/cuda/cuda_dnn.cc:432] Loaded cuDNN version 8600\n",
      "2023-12-13 16:43:45.964785: I tensorflow/compiler/xla/stream_executor/cuda/cuda_blas.cc:606] TensorFloat-32 will be used for the matrix multiplication. This will only be logged once.\n",
      "2023-12-13 16:43:46.241315: I tensorflow/compiler/xla/service/service.cc:168] XLA service 0x1cac1b10 initialized for platform CUDA (this does not guarantee that XLA will be used). Devices:\n",
      "2023-12-13 16:43:46.241386: I tensorflow/compiler/xla/service/service.cc:176]   StreamExecutor device (0): NVIDIA GeForce RTX 3080, Compute Capability 8.6\n",
      "2023-12-13 16:43:46.277455: I tensorflow/compiler/mlir/tensorflow/utils/dump_mlir_util.cc:255] disabling MLIR crash reproducer, set env var `MLIR_CRASH_REPRODUCER_DIRECTORY` to enable.\n",
      "2023-12-13 16:43:46.493883: I ./tensorflow/compiler/jit/device_compiler.h:186] Compiled cluster using XLA!  This line is logged at most once for the lifetime of the process.\n"
     ]
    },
    {
     "name": "stdout",
     "output_type": "stream",
     "text": [
      "1974/1974 [==============================] - 199s 94ms/step - loss: 1.5375 - accuracy: 0.5521 - precision: 0.7531 - recall: 0.4526 - val_loss: 1.2243 - val_accuracy: 0.6774 - val_precision: 0.7047 - val_recall: 0.6576\n",
      "Epoch 2/40\n",
      "1974/1974 [==============================] - 171s 87ms/step - loss: 0.4380 - accuracy: 0.8558 - precision: 0.8780 - recall: 0.8365 - val_loss: 0.5387 - val_accuracy: 0.8379 - val_precision: 0.8530 - val_recall: 0.8285\n",
      "Epoch 3/40\n",
      "1974/1974 [==============================] - 176s 89ms/step - loss: 0.2603 - accuracy: 0.9153 - precision: 0.9247 - recall: 0.9073 - val_loss: 0.2903 - val_accuracy: 0.9153 - val_precision: 0.9194 - val_recall: 0.9101\n",
      "Epoch 4/40\n",
      "1974/1974 [==============================] - 169s 86ms/step - loss: 0.1898 - accuracy: 0.9393 - precision: 0.9448 - recall: 0.9348 - val_loss: 0.2994 - val_accuracy: 0.9219 - val_precision: 0.9253 - val_recall: 0.9202\n",
      "Epoch 5/40\n",
      "1974/1974 [==============================] - 156s 79ms/step - loss: 0.1485 - accuracy: 0.9530 - precision: 0.9569 - recall: 0.9502 - val_loss: 0.2534 - val_accuracy: 0.9248 - val_precision: 0.9358 - val_recall: 0.9193\n",
      "Epoch 6/40\n",
      "1974/1974 [==============================] - 167s 85ms/step - loss: 0.1197 - accuracy: 0.9627 - precision: 0.9656 - recall: 0.9607 - val_loss: 0.1716 - val_accuracy: 0.9477 - val_precision: 0.9505 - val_recall: 0.9450\n",
      "Epoch 7/40\n",
      "1974/1974 [==============================] - 176s 89ms/step - loss: 0.0945 - accuracy: 0.9711 - precision: 0.9733 - recall: 0.9695 - val_loss: 0.1619 - val_accuracy: 0.9576 - val_precision: 0.9604 - val_recall: 0.9558\n",
      "Epoch 8/40\n",
      "1974/1974 [==============================] - 159s 80ms/step - loss: 0.0875 - accuracy: 0.9738 - precision: 0.9753 - recall: 0.9726 - val_loss: 0.4777 - val_accuracy: 0.8801 - val_precision: 0.8890 - val_recall: 0.8738\n",
      "Epoch 9/40\n",
      "1974/1974 [==============================] - 177s 90ms/step - loss: 0.0748 - accuracy: 0.9771 - precision: 0.9783 - recall: 0.9762 - val_loss: 0.1113 - val_accuracy: 0.9646 - val_precision: 0.9660 - val_recall: 0.9637\n",
      "Epoch 10/40\n",
      "1974/1974 [==============================] - 180s 91ms/step - loss: 0.0713 - accuracy: 0.9786 - precision: 0.9798 - recall: 0.9777 - val_loss: 0.3016 - val_accuracy: 0.9281 - val_precision: 0.9297 - val_recall: 0.9274\n",
      "Epoch 11/40\n",
      "1974/1974 [==============================] - 160s 81ms/step - loss: 0.0603 - accuracy: 0.9819 - precision: 0.9830 - recall: 0.9811 - val_loss: 0.3829 - val_accuracy: 0.9006 - val_precision: 0.9052 - val_recall: 0.8971\n",
      "Epoch 12/40\n",
      "1974/1974 [==============================] - 175s 89ms/step - loss: 0.0526 - accuracy: 0.9841 - precision: 0.9847 - recall: 0.9834 - val_loss: 0.1664 - val_accuracy: 0.9602 - val_precision: 0.9619 - val_recall: 0.9593\n",
      "Epoch 13/40\n",
      "1974/1974 [==============================] - 178s 90ms/step - loss: 0.0490 - accuracy: 0.9857 - precision: 0.9865 - recall: 0.9849 - val_loss: 0.0596 - val_accuracy: 0.9879 - val_precision: 0.9879 - val_recall: 0.9877\n",
      "Epoch 14/40\n",
      "1974/1974 [==============================] - 168s 85ms/step - loss: 0.0472 - accuracy: 0.9866 - precision: 0.9874 - recall: 0.9861 - val_loss: 0.0854 - val_accuracy: 0.9780 - val_precision: 0.9788 - val_recall: 0.9769\n",
      "Epoch 15/40\n",
      "1974/1974 [==============================] - 188s 95ms/step - loss: 0.0442 - accuracy: 0.9870 - precision: 0.9877 - recall: 0.9866 - val_loss: 0.1303 - val_accuracy: 0.9659 - val_precision: 0.9678 - val_recall: 0.9639\n",
      "Epoch 16/40\n",
      "1974/1974 [==============================] - 165s 83ms/step - loss: 0.0390 - accuracy: 0.9884 - precision: 0.9889 - recall: 0.9880 - val_loss: 0.1907 - val_accuracy: 0.9503 - val_precision: 0.9527 - val_recall: 0.9479\n",
      "Epoch 17/40\n",
      "1974/1974 [==============================] - 159s 81ms/step - loss: 0.0401 - accuracy: 0.9885 - precision: 0.9892 - recall: 0.9882 - val_loss: 0.0861 - val_accuracy: 0.9826 - val_precision: 0.9826 - val_recall: 0.9817\n",
      "Epoch 18/40\n",
      "1974/1974 [==============================] - 157s 79ms/step - loss: 0.0376 - accuracy: 0.9887 - precision: 0.9890 - recall: 0.9883 - val_loss: 0.0536 - val_accuracy: 0.9872 - val_precision: 0.9875 - val_recall: 0.9870\n",
      "Epoch 19/40\n",
      "1974/1974 [==============================] - 169s 86ms/step - loss: 0.0313 - accuracy: 0.9911 - precision: 0.9913 - recall: 0.9910 - val_loss: 0.1727 - val_accuracy: 0.9701 - val_precision: 0.9709 - val_recall: 0.9692\n",
      "Epoch 20/40\n",
      "1974/1974 [==============================] - 181s 92ms/step - loss: 0.0348 - accuracy: 0.9900 - precision: 0.9905 - recall: 0.9895 - val_loss: 0.3565 - val_accuracy: 0.9510 - val_precision: 0.9511 - val_recall: 0.9496\n",
      "Epoch 21/40\n",
      "1974/1974 [==============================] - 162s 82ms/step - loss: 0.0351 - accuracy: 0.9905 - precision: 0.9908 - recall: 0.9903 - val_loss: 0.0467 - val_accuracy: 0.9857 - val_precision: 0.9872 - val_recall: 0.9848\n",
      "Epoch 22/40\n",
      "1974/1974 [==============================] - 175s 89ms/step - loss: 0.0283 - accuracy: 0.9922 - precision: 0.9925 - recall: 0.9919 - val_loss: 0.0655 - val_accuracy: 0.9833 - val_precision: 0.9839 - val_recall: 0.9826\n",
      "Epoch 23/40\n",
      "1974/1974 [==============================] - 164s 83ms/step - loss: 0.0289 - accuracy: 0.9918 - precision: 0.9922 - recall: 0.9916 - val_loss: 0.0214 - val_accuracy: 0.9945 - val_precision: 0.9947 - val_recall: 0.9945\n",
      "Epoch 24/40\n",
      "1974/1974 [==============================] - 164s 83ms/step - loss: 0.0259 - accuracy: 0.9930 - precision: 0.9932 - recall: 0.9928 - val_loss: 0.0457 - val_accuracy: 0.9875 - val_precision: 0.9881 - val_recall: 0.9872\n",
      "Epoch 25/40\n",
      "1974/1974 [==============================] - 169s 85ms/step - loss: 0.0242 - accuracy: 0.9930 - precision: 0.9933 - recall: 0.9929 - val_loss: 0.0297 - val_accuracy: 0.9916 - val_precision: 0.9921 - val_recall: 0.9914\n",
      "Epoch 26/40\n",
      "1974/1974 [==============================] - 170s 86ms/step - loss: 0.0274 - accuracy: 0.9930 - precision: 0.9932 - recall: 0.9926 - val_loss: 0.1327 - val_accuracy: 0.9701 - val_precision: 0.9709 - val_recall: 0.9697\n",
      "Epoch 27/40\n",
      "1974/1974 [==============================] - 169s 86ms/step - loss: 0.0246 - accuracy: 0.9934 - precision: 0.9937 - recall: 0.9933 - val_loss: 0.1626 - val_accuracy: 0.9653 - val_precision: 0.9676 - val_recall: 0.9646\n",
      "Epoch 28/40\n",
      "1974/1974 [==============================] - 172s 87ms/step - loss: 0.0209 - accuracy: 0.9944 - precision: 0.9946 - recall: 0.9942 - val_loss: 0.0378 - val_accuracy: 0.9890 - val_precision: 0.9892 - val_recall: 0.9888\n",
      "Epoch 29/40\n",
      "1974/1974 [==============================] - 178s 90ms/step - loss: 0.0225 - accuracy: 0.9940 - precision: 0.9942 - recall: 0.9937 - val_loss: 0.0495 - val_accuracy: 0.9872 - val_precision: 0.9872 - val_recall: 0.9870\n",
      "Epoch 30/40\n",
      "1974/1974 [==============================] - 174s 88ms/step - loss: 0.0194 - accuracy: 0.9943 - precision: 0.9944 - recall: 0.9942 - val_loss: 0.0241 - val_accuracy: 0.9938 - val_precision: 0.9938 - val_recall: 0.9932\n",
      "Epoch 31/40\n",
      "1974/1974 [==============================] - 173s 88ms/step - loss: 0.0179 - accuracy: 0.9954 - precision: 0.9955 - recall: 0.9953 - val_loss: 0.4608 - val_accuracy: 0.9327 - val_precision: 0.9359 - val_recall: 0.9309\n",
      "Epoch 32/40\n",
      "1974/1974 [==============================] - 170s 86ms/step - loss: 0.0209 - accuracy: 0.9944 - precision: 0.9946 - recall: 0.9942 - val_loss: 0.0572 - val_accuracy: 0.9837 - val_precision: 0.9837 - val_recall: 0.9835\n",
      "Epoch 33/40\n",
      "1974/1974 [==============================] - 171s 87ms/step - loss: 0.0192 - accuracy: 0.9946 - precision: 0.9948 - recall: 0.9945 - val_loss: 0.0944 - val_accuracy: 0.9756 - val_precision: 0.9762 - val_recall: 0.9751\n",
      "Epoch 34/40\n",
      "1974/1974 [==============================] - 184s 93ms/step - loss: 0.0160 - accuracy: 0.9958 - precision: 0.9960 - recall: 0.9958 - val_loss: 0.2224 - val_accuracy: 0.9729 - val_precision: 0.9736 - val_recall: 0.9729\n",
      "Epoch 35/40\n",
      "1974/1974 [==============================] - 161s 82ms/step - loss: 0.0167 - accuracy: 0.9956 - precision: 0.9958 - recall: 0.9955 - val_loss: 0.0339 - val_accuracy: 0.9908 - val_precision: 0.9910 - val_recall: 0.9901\n",
      "Epoch 36/40\n",
      "1974/1974 [==============================] - 170s 86ms/step - loss: 0.0160 - accuracy: 0.9954 - precision: 0.9955 - recall: 0.9953 - val_loss: 0.0247 - val_accuracy: 0.9927 - val_precision: 0.9930 - val_recall: 0.9925\n",
      "Epoch 37/40\n",
      "1974/1974 [==============================] - 170s 86ms/step - loss: 0.0154 - accuracy: 0.9956 - precision: 0.9957 - recall: 0.9955 - val_loss: 0.0251 - val_accuracy: 0.9932 - val_precision: 0.9932 - val_recall: 0.9930\n",
      "Epoch 38/40\n",
      "1974/1974 [==============================] - 160s 81ms/step - loss: 0.0184 - accuracy: 0.9950 - precision: 0.9952 - recall: 0.9949 - val_loss: 0.0313 - val_accuracy: 0.9894 - val_precision: 0.9901 - val_recall: 0.9883\n",
      "Epoch 39/40\n",
      "1974/1974 [==============================] - 172s 87ms/step - loss: 0.0143 - accuracy: 0.9962 - precision: 0.9964 - recall: 0.9962 - val_loss: 0.1033 - val_accuracy: 0.9802 - val_precision: 0.9804 - val_recall: 0.9802\n",
      "Epoch 40/40\n",
      "1974/1974 [==============================] - 168s 85ms/step - loss: 0.0155 - accuracy: 0.9957 - precision: 0.9958 - recall: 0.9957 - val_loss: 0.0922 - val_accuracy: 0.9806 - val_precision: 0.9809 - val_recall: 0.9806\n"
     ]
    }
   ],
   "source": [
    "history_mobilenet=mobilenet_model.fit(train_generator, epochs=40, validation_data=validation_generator)"
   ]
  },
  {
   "cell_type": "code",
   "execution_count": 12,
   "metadata": {},
   "outputs": [
    {
     "name": "stderr",
     "output_type": "stream",
     "text": [
      "/environment/miniconda3/lib/python3.10/site-packages/keras/src/engine/training.py:3000: UserWarning: You are saving your model as an HDF5 file via `model.save()`. This file format is considered legacy. We recommend using instead the native Keras format, e.g. `model.save('my_model.keras')`.\n",
      "  saving_api.save_model(\n"
     ]
    }
   ],
   "source": [
    "#save the history of mobilenet    \n",
    "save_history_mobilenet = pd.DataFrame(history_mobilenet.history)\n",
    "\n",
    "save_history_mobilenet.to_csv(\"mobilenet_model_training_history_40epoch_1211.csv\", index=False)\n",
    "\n",
    "save_path=r'mobilenet_model1213_40epochs.h5'\n",
    "mobilenet_model.save(save_path)"
   ]
  }
 ],
 "metadata": {
  "kernelspec": {
   "display_name": "Python 3 (ipykernel)",
   "language": "python",
   "name": "python3"
  },
  "language_info": {
   "codemirror_mode": {
    "name": "ipython",
    "version": 3
   },
   "file_extension": ".py",
   "mimetype": "text/x-python",
   "name": "python",
   "nbconvert_exporter": "python",
   "pygments_lexer": "ipython3",
   "version": "3.10.12"
  }
 },
 "nbformat": 4,
 "nbformat_minor": 4
}
